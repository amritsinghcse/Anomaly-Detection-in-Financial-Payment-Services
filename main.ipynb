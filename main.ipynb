{
 "cells": [
  {
   "cell_type": "code",
   "execution_count": 48,
   "metadata": {},
   "outputs": [],
   "source": [
    "import pandas as pd\n",
    "import numpy as np\n",
    "import matplotlib.pyplot as plt"
   ]
  },
  {
   "cell_type": "code",
   "execution_count": 49,
   "metadata": {},
   "outputs": [],
   "source": [
    "import warnings\n",
    "warnings.filterwarnings(\"ignore\", category=DeprecationWarning)"
   ]
  },
  {
   "cell_type": "code",
   "execution_count": 50,
   "metadata": {},
   "outputs": [
    {
     "name": "stdout",
     "output_type": "stream",
     "text": [
      "C:\\Users\\varda\\Desktop\\Project(minor)\n"
     ]
    }
   ],
   "source": [
    "cd C:\\Users\\varda\\Desktop\\Project(minor)"
   ]
  },
  {
   "cell_type": "code",
   "execution_count": 51,
   "metadata": {},
   "outputs": [
    {
     "data": {
      "text/plain": [
       "'C:\\\\Users\\\\varda\\\\Desktop\\\\Project(minor)'"
      ]
     },
     "execution_count": 51,
     "metadata": {},
     "output_type": "execute_result"
    }
   ],
   "source": [
    "pwd"
   ]
  },
  {
   "cell_type": "code",
   "execution_count": 52,
   "metadata": {},
   "outputs": [
    {
     "name": "stdout",
     "output_type": "stream",
     "text": [
      "   step      type    amount     nameOrig  oldBalanceOrig  newBalanceOrig  \\\n",
      "0     1   PAYMENT   9839.64  C1231006815        170136.0       160296.36   \n",
      "1     1   PAYMENT   1864.28  C1666544295         21249.0        19384.72   \n",
      "2     1  TRANSFER    181.00  C1305486145           181.0            0.00   \n",
      "3     1  CASH_OUT    181.00   C840083671           181.0            0.00   \n",
      "4     1   PAYMENT  11668.14  C2048537720         41554.0        29885.86   \n",
      "\n",
      "      nameDest  oldBalanceDest  newBalanceDest  isFraud  isFlaggedFraud  \n",
      "0  M1979787155             0.0             0.0        0               0  \n",
      "1  M2044282225             0.0             0.0        0               0  \n",
      "2   C553264065             0.0             0.0        1               0  \n",
      "3    C38997010         21182.0             0.0        1               0  \n",
      "4  M1230701703             0.0             0.0        0               0  \n"
     ]
    }
   ],
   "source": [
    "df = pd.read_csv('PS_20174392719_1491204439457_log.csv')\n",
    "df = df.rename(columns={'oldbalanceOrg':'oldBalanceOrig', 'newbalanceOrig':'newBalanceOrig', \\\n",
    "                        'oldbalanceDest':'oldBalanceDest', 'newbalanceDest':'newBalanceDest'})\n",
    "print(df.head())"
   ]
  },
  {
   "cell_type": "code",
   "execution_count": 53,
   "metadata": {},
   "outputs": [
    {
     "data": {
      "text/plain": [
       "False"
      ]
     },
     "execution_count": 53,
     "metadata": {},
     "output_type": "execute_result"
    }
   ],
   "source": [
    "df.isnull().values.any()"
   ]
  },
  {
   "cell_type": "code",
   "execution_count": 54,
   "metadata": {},
   "outputs": [
    {
     "name": "stdout",
     "output_type": "stream",
     "text": [
      "CASH_OUT    2237500\n",
      "PAYMENT     2151495\n",
      "CASH_IN     1399284\n",
      "TRANSFER     532909\n",
      "DEBIT         41432\n",
      "Name: type, dtype: int64\n"
     ]
    },
    {
     "data": {
      "image/png": "[encoded data removed]",
      "text/plain": [
       "<matplotlib.figure.Figure at 0x1afaed04cf8>"
      ]
     },
     "metadata": {},
     "output_type": "display_data"
    }
   ],
   "source": [
    "print(df.type.value_counts())\n",
    "\n",
    "f, ax = plt.subplots(1, 1, figsize=(8, 8))\n",
    "df.type.value_counts().plot(kind='bar', title=\"Transaction type\", ax=ax, figsize=(8,8))\n",
    "plt.show()"
   ]
  },
  {
   "cell_type": "code",
   "execution_count": 55,
   "metadata": {},
   "outputs": [
    {
     "data": {
      "text/plain": [
       "type      isFraud\n",
       "CASH_IN   0          1399284\n",
       "CASH_OUT  0          2233384\n",
       "          1             4116\n",
       "DEBIT     0            41432\n",
       "PAYMENT   0          2151495\n",
       "TRANSFER  0           528812\n",
       "          1             4097\n",
       "Name: step, dtype: int64"
      ]
     },
     "execution_count": 55,
     "metadata": {},
     "output_type": "execute_result"
    }
   ],
   "source": [
    "df.groupby(['type', 'isFraud']).count()['step']"
   ]
  },
  {
   "cell_type": "code",
   "execution_count": 56,
   "metadata": {},
   "outputs": [
    {
     "name": "stdout",
     "output_type": "stream",
     "text": [
      "\n",
      " The number of fraudulent TRANSFERs = 4097\n",
      "\n",
      " The number of fraudulent CASH_OUTs = 4116\n"
     ]
    }
   ],
   "source": [
    "dfFraudTransfer = df.loc[(df.isFraud == 1) & (df.type == 'TRANSFER')]\n",
    "dfFraudCashout = df.loc[(df.isFraud == 1) & (df.type == 'CASH_OUT')]\n",
    "\n",
    "print ('\\n The number of fraudulent TRANSFERs = {}'.\\\n",
    "       format(len(dfFraudTransfer)))\n",
    "\n",
    "print ('\\n The number of fraudulent CASH_OUTs = {}'.\\\n",
    "       format(len(dfFraudCashout)))"
   ]
  },
  {
   "cell_type": "code",
   "execution_count": 57,
   "metadata": {},
   "outputs": [
    {
     "name": "stdout",
     "output_type": "stream",
     "text": [
      "\n",
      "The type of transactions where isFlaggedFraud is set: ['TRANSFER']\n",
      "\n",
      "Max amount transacted in a TRANSFER where isFlaggedFraud is not set= 92445516.64\n"
     ]
    }
   ],
   "source": [
    "dfFlagged = df.loc[df.isFlaggedFraud == 1]\n",
    "dfNotFlagged = df.loc[df.isFlaggedFraud == 0]\n",
    "\n",
    "print('\\nThe type of transactions where isFlaggedFraud is set: \\\n",
    "{}'.format(list(dfFlagged.type.drop_duplicates()))) \n",
    "\n",
    "dfTransfer = df.loc[df.type == 'TRANSFER']\n",
    "\n",
    "print('\\nMax amount transacted in a TRANSFER where isFlaggedFraud is not set=\\\n",
    " {}'.format(dfNotFlagged.amount.max()))"
   ]
  },
  {
   "cell_type": "code",
   "execution_count": 58,
   "metadata": {},
   "outputs": [
    {
     "name": "stdout",
     "output_type": "stream",
     "text": [
      "\n",
      "The number of TRANSFERs where isFlaggedFraud = 0, yet oldBalanceDest = 0 and newBalanceDest = 0 : 4158\n"
     ]
    }
   ],
   "source": [
    "print('\\nThe number of TRANSFERs where isFlaggedFraud = 0, yet oldBalanceDest = 0 and\\\n",
    " newBalanceDest = 0 : {}'.\\\n",
    "format(len(dfTransfer.loc[(dfTransfer.isFlaggedFraud == 0) & \\\n",
    "(dfTransfer.oldBalanceDest == 0) & (dfTransfer.newBalanceDest == 0)])))"
   ]
  },
  {
   "cell_type": "code",
   "execution_count": 59,
   "metadata": {},
   "outputs": [
    {
     "name": "stdout",
     "output_type": "stream",
     "text": [
      "\n",
      "Min, Max of oldBalanceOrig for isFlaggedFraud = 1 TRANSFERs: [353874.0, 19585040.0]\n",
      "\n",
      "Min, Max of oldBalanceOrig for isFlaggedFraud = 0 TRANSFERs where oldBalanceOrig = newBalanceOrig: [0.0, 575668.0]\n"
     ]
    }
   ],
   "source": [
    "print('\\nMin, Max of oldBalanceOrig for isFlaggedFraud = 1 TRANSFERs: {}'.\\\n",
    "format([round(dfFlagged.oldBalanceOrig.min()), round(dfFlagged.oldBalanceOrig.max())]))\n",
    "\n",
    "print('\\nMin, Max of oldBalanceOrig for isFlaggedFraud = 0 TRANSFERs where \\\n",
    "oldBalanceOrig = \\\n",
    "newBalanceOrig: {}'.format(\\\n",
    "[dfTransfer.loc[(dfTransfer.isFlaggedFraud == 0) & (dfTransfer.oldBalanceOrig \\\n",
    "== dfTransfer.newBalanceOrig)].oldBalanceOrig.min(), \\\n",
    "round(dfTransfer.loc[(dfTransfer.isFlaggedFraud == 0) & (dfTransfer.oldBalanceOrig \\\n",
    "               == dfTransfer.newBalanceOrig)].oldBalanceOrig.max())]))"
   ]
  },
  {
   "cell_type": "code",
   "execution_count": 60,
   "metadata": {},
   "outputs": [
    {
     "name": "stdout",
     "output_type": "stream",
     "text": [
      "\n",
      "Have originators of transactions flagged as fraud transacted more than once? False\n",
      "\n",
      "Have destinations for transactions flagged as fraud initiated other transactions? False\n",
      "\n",
      "How many destination accounts of transactions flagged as fraud have been destination accounts more than once?: 2\n"
     ]
    }
   ],
   "source": [
    "print('\\nHave originators of transactions flagged as fraud transacted more than \\\n",
    "once? {}'\\\n",
    ".format((dfFlagged.nameOrig.isin(pd.concat([dfNotFlagged.nameOrig, \\\n",
    "                                    dfNotFlagged.nameDest]))).any()))\n",
    "\n",
    "print('\\nHave destinations for transactions flagged as fraud initiated\\\n",
    " other transactions? \\\n",
    "{}'.format((dfFlagged.nameDest.isin(dfNotFlagged.nameOrig)).any()))\n",
    "\n",
    "print('\\nHow many destination accounts of transactions flagged as fraud have been \\\n",
    "destination accounts more than once?: {}'\\\n",
    ".format(sum(dfFlagged.nameDest.isin(dfNotFlagged.nameDest))))"
   ]
  },
  {
   "cell_type": "code",
   "execution_count": 61,
   "metadata": {},
   "outputs": [
    {
     "data": {
      "text/plain": [
       "2736446     True\n",
       "3247297     True\n",
       "3760288    False\n",
       "5563713    False\n",
       "5996407    False\n",
       "5996409    False\n",
       "6168499    False\n",
       "6205439    False\n",
       "6266413    False\n",
       "6281482    False\n",
       "6281484    False\n",
       "6296014    False\n",
       "6351225    False\n",
       "6362460    False\n",
       "6362462    False\n",
       "6362584    False\n",
       "Name: nameDest, dtype: bool"
      ]
     },
     "execution_count": 61,
     "metadata": {},
     "output_type": "execute_result"
    }
   ],
   "source": [
    "dfFlagged.nameDest.isin(dfNotFlagged.nameDest)"
   ]
  },
  {
   "cell_type": "code",
   "execution_count": 62,
   "metadata": {},
   "outputs": [
    {
     "name": "stdout",
     "output_type": "stream",
     "text": [
      "\n",
      "Are there any merchants among originator accounts for CASH_IN transactions? False\n"
     ]
    }
   ],
   "source": [
    "print('\\nAre there any merchants among originator accounts for CASH_IN \\\n",
    "transactions? {}'.format(\\\n",
    "(df.loc[df.type == 'CASH_IN'].nameOrig.str.contains('M')).any()))"
   ]
  },
  {
   "cell_type": "code",
   "execution_count": 63,
   "metadata": {},
   "outputs": [
    {
     "name": "stdout",
     "output_type": "stream",
     "text": [
      "\n",
      "Are there any merchants among destination accounts for CASH_OUT transactions? False\n"
     ]
    }
   ],
   "source": [
    "print('\\nAre there any merchants among destination accounts for CASH_OUT \\\n",
    "transactions? {}'.format(\\\n",
    "(df.loc[df.type == 'CASH_OUT'].nameDest.str.contains('M')).any()))"
   ]
  },
  {
   "cell_type": "code",
   "execution_count": 64,
   "metadata": {},
   "outputs": [
    {
     "name": "stdout",
     "output_type": "stream",
     "text": [
      "\n",
      "Are there merchants among any originator accounts? False\n",
      "\n",
      "Are there any transactions having merchants among destination accounts other than the PAYMENT type? False\n"
     ]
    }
   ],
   "source": [
    "print('\\nAre there merchants among any originator accounts? {}'.format(\\\n",
    "      df.nameOrig.str.contains('M').any()))\n",
    "\n",
    "print('\\nAre there any transactions having merchants among destination accounts\\\n",
    " other than the PAYMENT type? {}'.format(\\\n",
    "(df.loc[df.nameDest.str.contains('M')].type != 'PAYMENT').any()))"
   ]
  },
  {
   "cell_type": "code",
   "execution_count": 65,
   "metadata": {},
   "outputs": [
    {
     "name": "stdout",
     "output_type": "stream",
     "text": [
      "\n",
      "Within fraudulent transactions, are there destinations for TRANSFERS that are also originators for CASH_OUTs? False\n"
     ]
    }
   ],
   "source": [
    "print('\\nWithin fraudulent transactions, are there destinations for TRANSFERS \\\n",
    "that are also originators for CASH_OUTs? {}'.format(\\\n",
    "(dfFraudTransfer.nameDest.isin(dfFraudCashout.nameOrig)).any())) \n",
    "dfNotFraud = df.loc[df.isFraud == 0]"
   ]
  },
  {
   "cell_type": "code",
   "execution_count": 66,
   "metadata": {},
   "outputs": [
    {
     "name": "stdout",
     "output_type": "stream",
     "text": [
      "\n",
      "Fraudulent TRANSFERs whose destination accounts are originators of genuine CASH_OUTs: \n",
      "\n",
      "         step      type      amount     nameOrig  oldBalanceOrig  \\\n",
      "1030443    65  TRANSFER  1282971.57  C1175896731      1282971.57   \n",
      "6039814   486  TRANSFER   214793.32  C2140495649       214793.32   \n",
      "6362556   738  TRANSFER   814689.88  C2029041842       814689.88   \n",
      "\n",
      "         newBalanceOrig     nameDest  oldBalanceDest  newBalanceDest  isFraud  \\\n",
      "1030443             0.0  C1714931087             0.0             0.0        1   \n",
      "6039814             0.0   C423543548             0.0             0.0        1   \n",
      "6362556             0.0  C1023330867             0.0             0.0        1   \n",
      "\n",
      "         isFlaggedFraud  \n",
      "1030443               0  \n",
      "6039814               0  \n",
      "6362556               0  \n"
     ]
    }
   ],
   "source": [
    "print('\\nFraudulent TRANSFERs whose destination accounts are originators of \\\n",
    "genuine CASH_OUTs: \\n\\n{}'.format(dfFraudTransfer.loc[dfFraudTransfer.nameDest.\\\n",
    "isin(dfNotFraud.loc[dfNotFraud.type == 'CASH_OUT'].nameOrig.drop_duplicates())]))"
   ]
  },
  {
   "cell_type": "code",
   "execution_count": 67,
   "metadata": {},
   "outputs": [],
   "source": [
    "X = df.loc[(df.type == 'TRANSFER') | (df.type == 'CASH_OUT')]\n",
    "\n",
    "randomState = 5\n",
    "np.random.seed(randomState)\n",
    "\n",
    "\n",
    "Y = X['isFraud']\n",
    "del X['isFraud']\n",
    "\n",
    "X = X.drop(['nameOrig', 'nameDest', 'isFlaggedFraud'], axis = 1)\n",
    "\n",
    "X.loc[X.type == 'TRANSFER', 'type'] = 0\n",
    "X.loc[X.type == 'CASH_OUT', 'type'] = 1\n",
    "X.type = X.type.astype(int) "
   ]
  },
  {
   "cell_type": "code",
   "execution_count": 68,
   "metadata": {},
   "outputs": [
    {
     "name": "stdout",
     "output_type": "stream",
     "text": [
      "\n",
      "The fraction of fraudulent transactions with 'oldBalanceDest' = 'newBalanceDest' = 0 although the transacted 'amount' is non-zero is: 0.4955558261293072\n",
      "\n",
      "The fraction of genuine transactions with 'oldBalanceDest' = newBalanceDest' = 0 although the transacted 'amount' is non-zero is: 0.0006176245277308345\n"
     ]
    }
   ],
   "source": [
    "Xfraud = X.loc[Y == 1]\n",
    "XnonFraud = X.loc[Y == 0]\n",
    "print('\\nThe fraction of fraudulent transactions with \\'oldBalanceDest\\' = \\\n",
    "\\'newBalanceDest\\' = 0 although the transacted \\'amount\\' is non-zero is: {}'.\\\n",
    "format(len(Xfraud.loc[(Xfraud.oldBalanceDest == 0) & \\\n",
    "(Xfraud.newBalanceDest == 0) & (Xfraud.amount)]) / (1.0 * len(Xfraud))))\n",
    "\n",
    "print('\\nThe fraction of genuine transactions with \\'oldBalanceDest\\' = \\\n",
    "newBalanceDest\\' = 0 although the transacted \\'amount\\' is non-zero is: {}'.\\\n",
    "format(len(XnonFraud.loc[(XnonFraud.oldBalanceDest == 0) & \\\n",
    "(XnonFraud.newBalanceDest == 0) & (XnonFraud.amount)]) / (1.0 * len(XnonFraud))))"
   ]
  },
  {
   "cell_type": "code",
   "execution_count": 69,
   "metadata": {},
   "outputs": [],
   "source": [
    "X.loc[(X.oldBalanceDest == 0) & (X.newBalanceDest == 0) & (X.amount != 0), \\\n",
    "      ['oldBalanceDest', 'newBalanceDest']] = - 1"
   ]
  },
  {
   "cell_type": "code",
   "execution_count": 70,
   "metadata": {},
   "outputs": [],
   "source": [
    "X.loc[(X.oldBalanceOrig == 0) & (X.newBalanceOrig == 0) & (X.amount != 0), \\\n",
    "      ['oldBalanceOrig', 'newBalanceOrig']] = np.nan"
   ]
  },
  {
   "cell_type": "code",
   "execution_count": 71,
   "metadata": {},
   "outputs": [],
   "source": [
    "X['errorBalanceOrig'] = X.newBalanceOrig + X.amount - X.oldBalanceOrig\n",
    "X['errorBalanceDest'] = X.oldBalanceDest + X.amount - X.newBalanceDest"
   ]
  },
  {
   "cell_type": "code",
   "execution_count": 72,
   "metadata": {},
   "outputs": [
    {
     "name": "stdout",
     "output_type": "stream",
     "text": [
      "skew = 0.002964544224336551\n"
     ]
    }
   ],
   "source": [
    "print('skew = {}'.format( len(Xfraud) / float(len(X)) ))"
   ]
  },
  {
   "cell_type": "markdown",
   "metadata": {},
   "source": [
    "## Ensemble"
   ]
  },
  {
   "cell_type": "code",
   "execution_count": 82,
   "metadata": {},
   "outputs": [],
   "source": [
    "from sklearn.model_selection import train_test_split\n",
    "from xgboost.sklearn import XGBClassifier\n",
    "from sklearn.metrics import average_precision_score"
   ]
  },
  {
   "cell_type": "code",
   "execution_count": 100,
   "metadata": {},
   "outputs": [],
   "source": [
    "trainX, testX, trainY, testY = train_test_split(X, Y, test_size = 0.4, \\\n",
    "                                                random_state = randomState)"
   ]
  },
  {
   "cell_type": "code",
   "execution_count": 101,
   "metadata": {},
   "outputs": [
    {
     "name": "stdout",
     "output_type": "stream",
     "text": [
      "AUPRC = 0.9946477428486173\n"
     ]
    }
   ],
   "source": [
    "weights = (Y == 0).sum() / (1.0 * (Y == 1).sum())\n",
    "clf = XGBClassifier(max_depth = 3, scale_pos_weight = weights, nthread = 4)\n",
    "probabilities = clf.fit(trainX, trainY).predict_proba(testX)\n",
    "print('AUPRC = {}'.format(average_precision_score(testY, probabilities[:, 1])))"
   ]
  },
  {
   "cell_type": "code",
   "execution_count": 102,
   "metadata": {},
   "outputs": [
    {
     "data": {
      "text/html": [
       "<div>\n",
       "<style scoped>\n",
       "    .dataframe tbody tr th:only-of-type {\n",
       "        vertical-align: middle;\n",
       "    }\n",
       "\n",
       "    .dataframe tbody tr th {\n",
       "        vertical-align: top;\n",
       "    }\n",
       "\n",
       "    .dataframe thead th {\n",
       "        text-align: right;\n",
       "    }\n",
       "</style>\n",
       "<table border=\"1\" class=\"dataframe\">\n",
       "  <thead>\n",
       "    <tr style=\"text-align: right;\">\n",
       "      <th></th>\n",
       "      <th>step</th>\n",
       "      <th>type</th>\n",
       "      <th>amount</th>\n",
       "      <th>oldBalanceOrig</th>\n",
       "      <th>newBalanceOrig</th>\n",
       "      <th>oldBalanceDest</th>\n",
       "      <th>newBalanceDest</th>\n",
       "      <th>errorBalanceOrig</th>\n",
       "      <th>errorBalanceDest</th>\n",
       "    </tr>\n",
       "  </thead>\n",
       "  <tbody>\n",
       "    <tr>\n",
       "      <th>1986614</th>\n",
       "      <td>179</td>\n",
       "      <td>1</td>\n",
       "      <td>161805.51</td>\n",
       "      <td>181634.0</td>\n",
       "      <td>19828.49</td>\n",
       "      <td>1679331.60</td>\n",
       "      <td>1841137.11</td>\n",
       "      <td>0.00</td>\n",
       "      <td>0.00</td>\n",
       "    </tr>\n",
       "    <tr>\n",
       "      <th>1824814</th>\n",
       "      <td>163</td>\n",
       "      <td>1</td>\n",
       "      <td>406420.71</td>\n",
       "      <td>NaN</td>\n",
       "      <td>NaN</td>\n",
       "      <td>461303.99</td>\n",
       "      <td>867724.69</td>\n",
       "      <td>NaN</td>\n",
       "      <td>0.01</td>\n",
       "    </tr>\n",
       "    <tr>\n",
       "      <th>4263817</th>\n",
       "      <td>307</td>\n",
       "      <td>1</td>\n",
       "      <td>243534.38</td>\n",
       "      <td>5575.0</td>\n",
       "      <td>0.00</td>\n",
       "      <td>28766.30</td>\n",
       "      <td>272300.68</td>\n",
       "      <td>237959.38</td>\n",
       "      <td>0.00</td>\n",
       "    </tr>\n",
       "    <tr>\n",
       "      <th>5734303</th>\n",
       "      <td>399</td>\n",
       "      <td>1</td>\n",
       "      <td>183743.33</td>\n",
       "      <td>NaN</td>\n",
       "      <td>NaN</td>\n",
       "      <td>4889509.04</td>\n",
       "      <td>5073252.38</td>\n",
       "      <td>NaN</td>\n",
       "      <td>-0.01</td>\n",
       "    </tr>\n",
       "    <tr>\n",
       "      <th>5324986</th>\n",
       "      <td>374</td>\n",
       "      <td>1</td>\n",
       "      <td>67228.06</td>\n",
       "      <td>41712.0</td>\n",
       "      <td>0.00</td>\n",
       "      <td>0.00</td>\n",
       "      <td>67228.06</td>\n",
       "      <td>25516.06</td>\n",
       "      <td>0.00</td>\n",
       "    </tr>\n",
       "  </tbody>\n",
       "</table>\n",
       "</div>"
      ],
      "text/plain": [
       "         step  type     amount  oldBalanceOrig  newBalanceOrig  \\\n",
       "1986614   179     1  161805.51        181634.0        19828.49   \n",
       "1824814   163     1  406420.71             NaN             NaN   \n",
       "4263817   307     1  243534.38          5575.0            0.00   \n",
       "5734303   399     1  183743.33             NaN             NaN   \n",
       "5324986   374     1   67228.06         41712.0            0.00   \n",
       "\n",
       "         oldBalanceDest  newBalanceDest  errorBalanceOrig  errorBalanceDest  \n",
       "1986614      1679331.60      1841137.11              0.00              0.00  \n",
       "1824814       461303.99       867724.69               NaN              0.01  \n",
       "4263817        28766.30       272300.68         237959.38              0.00  \n",
       "5734303      4889509.04      5073252.38               NaN             -0.01  \n",
       "5324986            0.00        67228.06          25516.06              0.00  "
      ]
     },
     "execution_count": 102,
     "metadata": {},
     "output_type": "execute_result"
    }
   ],
   "source": [
    "testX.tail()"
   ]
  },
  {
   "cell_type": "code",
   "execution_count": 103,
   "metadata": {},
   "outputs": [
    {
     "data": {
      "text/plain": [
       "array([[9.9931359e-01, 6.8639807e-04],\n",
       "       [9.9987096e-01, 1.2903049e-04],\n",
       "       [9.9954104e-01, 4.5895908e-04],\n",
       "       ...,\n",
       "       [9.9971479e-01, 2.8521405e-04],\n",
       "       [9.9986798e-01, 1.3200623e-04],\n",
       "       [9.9990416e-01, 9.5857220e-05]], dtype=float32)"
      ]
     },
     "execution_count": 103,
     "metadata": {},
     "output_type": "execute_result"
    }
   ],
   "source": [
    "probabilities"
   ]
  },
  {
   "cell_type": "code",
   "execution_count": 94,
   "metadata": {},
   "outputs": [],
   "source": [
    "from xgboost import plot_importance, to_graphviz"
   ]
  },
  {
   "cell_type": "code",
   "execution_count": 95,
   "metadata": {},
   "outputs": [
    {
     "data": {
      "image/svg+xml": [
       "<?xml version=\"1.0\" encoding=\"UTF-8\" standalone=\"no\"?>\r\n",
       "<!DOCTYPE svg PUBLIC \"-//W3C//DTD SVG 1.1//EN\"\r\n",
       " \"http://www.w3.org/Graphics/SVG/1.1/DTD/svg11.dtd\">\r\n",
       "<!-- Generated by graphviz version 2.38.0 (20140413.2041)\r\n",
       " -->\r\n",
       "<!-- Title: %3 Pages: 1 -->\r\n",
       "<svg width=\"715pt\" height=\"877pt\"\r\n",
       " viewBox=\"0.00 0.00 715.00 876.84\" xmlns=\"http://www.w3.org/2000/svg\" xmlns:xlink=\"http://www.w3.org/1999/xlink\">\r\n",
       "<g id=\"graph0\" class=\"graph\" transform=\"scale(1 1) rotate(0) translate(4 872.84)\">\r\n",
       "<title>%3</title>\r\n",
       "<polygon fill=\"white\" stroke=\"none\" points=\"-4,4 -4,-872.84 711,-872.84 711,4 -4,4\"/>\r\n",
       "<!-- 0 -->\r\n",
       "<g id=\"node1\" class=\"node\"><title>0</title>\r\n",
       "<ellipse fill=\"none\" stroke=\"black\" cx=\"303\" cy=\"-742.101\" rx=\"126.978\" ry=\"126.978\"/>\r\n",
       "<text text-anchor=\"middle\" x=\"303\" y=\"-738.401\" font-family=\"Times New Roman,serif\" font-size=\"14.00\">errorBalanceOrig&lt;1.13687e&#45;013</text>\r\n",
       "</g>\r\n",
       "<!-- 1 -->\r\n",
       "<g id=\"node2\" class=\"node\"><title>1</title>\r\n",
       "<ellipse fill=\"none\" stroke=\"black\" cx=\"160\" cy=\"-438.273\" rx=\"94.7833\" ry=\"94.7833\"/>\r\n",
       "<text text-anchor=\"middle\" x=\"160\" y=\"-434.573\" font-family=\"Times New Roman,serif\" font-size=\"14.00\">newBalanceOrig&lt;0.105</text>\r\n",
       "</g>\r\n",
       "<!-- 0&#45;&gt;1 -->\r\n",
       "<g id=\"edge1\" class=\"edge\"><title>0&#45;&gt;1</title>\r\n",
       "<path fill=\"none\" stroke=\"#0000ff\" d=\"M248.938,-626.993C234.316,-596.13 218.657,-563.08 204.618,-533.447\"/>\r\n",
       "<polygon fill=\"#0000ff\" stroke=\"#0000ff\" points=\"207.76,-531.905 200.315,-524.366 201.434,-534.902 207.76,-531.905\"/>\r\n",
       "<text text-anchor=\"middle\" x=\"241.5\" y=\"-586.162\" font-family=\"Times New Roman,serif\" font-size=\"14.00\">yes</text>\r\n",
       "</g>\r\n",
       "<!-- 2 -->\r\n",
       "<g id=\"node3\" class=\"node\"><title>2</title>\r\n",
       "<ellipse fill=\"none\" stroke=\"black\" cx=\"399\" cy=\"-438.273\" rx=\"126.178\" ry=\"126.178\"/>\r\n",
       "<text text-anchor=\"middle\" x=\"399\" y=\"-434.573\" font-family=\"Times New Roman,serif\" font-size=\"14.00\">newBalanceOrig&lt;1.34055e+006</text>\r\n",
       "</g>\r\n",
       "<!-- 0&#45;&gt;2 -->\r\n",
       "<g id=\"edge2\" class=\"edge\"><title>0&#45;&gt;2</title>\r\n",
       "<path fill=\"none\" stroke=\"#ff0000\" d=\"M341.218,-620.943C346.732,-603.605 352.427,-585.701 357.993,-568.2\"/>\r\n",
       "<polygon fill=\"#ff0000\" stroke=\"#ff0000\" points=\"361.375,-569.115 361.071,-558.525 354.704,-566.993 361.375,-569.115\"/>\r\n",
       "<text text-anchor=\"middle\" x=\"383\" y=\"-586.162\" font-family=\"Times New Roman,serif\" font-size=\"14.00\">no, missing</text>\r\n",
       "</g>\r\n",
       "<!-- 3 -->\r\n",
       "<g id=\"node4\" class=\"node\"><title>3</title>\r\n",
       "<polygon fill=\"none\" stroke=\"black\" points=\"74,-192.092 12,-192.092 12,-156.092 74,-156.092 74,-192.092\"/>\r\n",
       "<text text-anchor=\"middle\" x=\"43\" y=\"-170.392\" font-family=\"Times New Roman,serif\" font-size=\"14.00\">leaf=0.2</text>\r\n",
       "</g>\r\n",
       "<!-- 1&#45;&gt;3 -->\r\n",
       "<g id=\"edge3\" class=\"edge\"><title>1&#45;&gt;3</title>\r\n",
       "<path fill=\"none\" stroke=\"#0000ff\" d=\"M121.69,-351.425C98.4581,-299.366 70.3845,-236.457 54.8309,-201.604\"/>\r\n",
       "<polygon fill=\"#0000ff\" stroke=\"#0000ff\" points=\"57.8791,-199.846 50.6076,-192.14 51.4867,-202.698 57.8791,-199.846\"/>\r\n",
       "<text text-anchor=\"middle\" x=\"104.5\" y=\"-282.985\" font-family=\"Times New Roman,serif\" font-size=\"14.00\">yes</text>\r\n",
       "</g>\r\n",
       "<!-- 4 -->\r\n",
       "<g id=\"node5\" class=\"node\"><title>4</title>\r\n",
       "<ellipse fill=\"none\" stroke=\"black\" cx=\"162\" cy=\"-174.092\" rx=\"69.5877\" ry=\"69.5877\"/>\r\n",
       "<text text-anchor=\"middle\" x=\"162\" y=\"-170.392\" font-family=\"Times New Roman,serif\" font-size=\"14.00\">amount&lt;989592</text>\r\n",
       "</g>\r\n",
       "<!-- 1&#45;&gt;4 -->\r\n",
       "<g id=\"edge4\" class=\"edge\"><title>1&#45;&gt;4</title>\r\n",
       "<path fill=\"none\" stroke=\"#ff0000\" d=\"M160.716,-343.361C160.94,-314.047 161.184,-282.03 161.399,-253.867\"/>\r\n",
       "<polygon fill=\"#ff0000\" stroke=\"#ff0000\" points=\"164.9,-253.704 161.477,-243.678 157.901,-253.651 164.9,-253.704\"/>\r\n",
       "<text text-anchor=\"middle\" x=\"194\" y=\"-282.985\" font-family=\"Times New Roman,serif\" font-size=\"14.00\">no, missing</text>\r\n",
       "</g>\r\n",
       "<!-- 5 -->\r\n",
       "<g id=\"node8\" class=\"node\"><title>5</title>\r\n",
       "<ellipse fill=\"none\" stroke=\"black\" cx=\"398\" cy=\"-174.092\" rx=\"40.0939\" ry=\"40.0939\"/>\r\n",
       "<text text-anchor=\"middle\" x=\"398\" y=\"-170.392\" font-family=\"Times New Roman,serif\" font-size=\"14.00\">step&lt;39</text>\r\n",
       "</g>\r\n",
       "<!-- 2&#45;&gt;5 -->\r\n",
       "<g id=\"edge7\" class=\"edge\"><title>2&#45;&gt;5</title>\r\n",
       "<path fill=\"none\" stroke=\"#0000ff\" d=\"M398.522,-311.942C398.404,-281.069 398.285,-249.769 398.19,-224.909\"/>\r\n",
       "<polygon fill=\"#0000ff\" stroke=\"#0000ff\" points=\"401.689,-224.656 398.151,-214.67 394.689,-224.683 401.689,-224.656\"/>\r\n",
       "<text text-anchor=\"middle\" x=\"433.5\" y=\"-282.985\" font-family=\"Times New Roman,serif\" font-size=\"14.00\">yes, missing</text>\r\n",
       "</g>\r\n",
       "<!-- 6 -->\r\n",
       "<g id=\"node9\" class=\"node\"><title>6</title>\r\n",
       "<ellipse fill=\"none\" stroke=\"black\" cx=\"543\" cy=\"-174.092\" rx=\"87.1846\" ry=\"87.1846\"/>\r\n",
       "<text text-anchor=\"middle\" x=\"543\" y=\"-170.392\" font-family=\"Times New Roman,serif\" font-size=\"14.00\">oldBalanceDest&lt;&#45;0.5</text>\r\n",
       "</g>\r\n",
       "<!-- 2&#45;&gt;6 -->\r\n",
       "<g id=\"edge8\" class=\"edge\"><title>2&#45;&gt;6</title>\r\n",
       "<path fill=\"none\" stroke=\"#ff0000\" d=\"M459.443,-327.225C471.767,-304.786 484.556,-281.502 496.312,-260.097\"/>\r\n",
       "<polygon fill=\"#ff0000\" stroke=\"#ff0000\" points=\"499.537,-261.496 501.283,-251.046 493.401,-258.126 499.537,-261.496\"/>\r\n",
       "<text text-anchor=\"middle\" x=\"491.5\" y=\"-282.985\" font-family=\"Times New Roman,serif\" font-size=\"14.00\">no</text>\r\n",
       "</g>\r\n",
       "<!-- 7 -->\r\n",
       "<g id=\"node6\" class=\"node\"><title>7</title>\r\n",
       "<polygon fill=\"none\" stroke=\"black\" points=\"100,-36 0,-36 0,-0 100,-0 100,-36\"/>\r\n",
       "<text text-anchor=\"middle\" x=\"50\" y=\"-14.3\" font-family=\"Times New Roman,serif\" font-size=\"14.00\">leaf=&#45;0.199344</text>\r\n",
       "</g>\r\n",
       "<!-- 4&#45;&gt;7 -->\r\n",
       "<g id=\"edge5\" class=\"edge\"><title>4&#45;&gt;7</title>\r\n",
       "<path fill=\"none\" stroke=\"#0000ff\" d=\"M121.565,-117.461C103.444,-92.5302 82.9614,-64.3491 68.5663,-44.544\"/>\r\n",
       "<polygon fill=\"#0000ff\" stroke=\"#0000ff\" points=\"71.3136,-42.3708 62.603,-36.3395 65.6513,-46.4864 71.3136,-42.3708\"/>\r\n",
       "<text text-anchor=\"middle\" x=\"121.5\" y=\"-57.8\" font-family=\"Times New Roman,serif\" font-size=\"14.00\">yes, missing</text>\r\n",
       "</g>\r\n",
       "<!-- 8 -->\r\n",
       "<g id=\"node7\" class=\"node\"><title>8</title>\r\n",
       "<polygon fill=\"none\" stroke=\"black\" points=\"213.5,-36 118.5,-36 118.5,-0 213.5,-0 213.5,-36\"/>\r\n",
       "<text text-anchor=\"middle\" x=\"166\" y=\"-14.3\" font-family=\"Times New Roman,serif\" font-size=\"14.00\">leaf=0.199149</text>\r\n",
       "</g>\r\n",
       "<!-- 4&#45;&gt;8 -->\r\n",
       "<g id=\"edge6\" class=\"edge\"><title>4&#45;&gt;8</title>\r\n",
       "<path fill=\"none\" stroke=\"#ff0000\" d=\"M163.789,-104.159C164.32,-83.7149 164.871,-62.5006 165.29,-46.3598\"/>\r\n",
       "<polygon fill=\"#ff0000\" stroke=\"#ff0000\" points=\"168.796,-46.1552 165.557,-36.0677 161.799,-45.9735 168.796,-46.1552\"/>\r\n",
       "<text text-anchor=\"middle\" x=\"173.5\" y=\"-57.8\" font-family=\"Times New Roman,serif\" font-size=\"14.00\">no</text>\r\n",
       "</g>\r\n",
       "<!-- 9 -->\r\n",
       "<g id=\"node10\" class=\"node\"><title>9</title>\r\n",
       "<polygon fill=\"none\" stroke=\"black\" points=\"349,-36 249,-36 249,-0 349,-0 349,-36\"/>\r\n",
       "<text text-anchor=\"middle\" x=\"299\" y=\"-14.3\" font-family=\"Times New Roman,serif\" font-size=\"14.00\">leaf=&#45;0.190305</text>\r\n",
       "</g>\r\n",
       "<!-- 5&#45;&gt;9 -->\r\n",
       "<g id=\"edge9\" class=\"edge\"><title>5&#45;&gt;9</title>\r\n",
       "<path fill=\"none\" stroke=\"#0000ff\" d=\"M376.518,-139.657C358.205,-111.152 332.262,-70.7725 315.532,-44.7325\"/>\r\n",
       "<polygon fill=\"#0000ff\" stroke=\"#0000ff\" points=\"318.377,-42.6842 310.027,-36.1628 312.487,-46.4679 318.377,-42.6842\"/>\r\n",
       "<text text-anchor=\"middle\" x=\"366.5\" y=\"-57.8\" font-family=\"Times New Roman,serif\" font-size=\"14.00\">yes, missing</text>\r\n",
       "</g>\r\n",
       "<!-- 10 -->\r\n",
       "<g id=\"node11\" class=\"node\"><title>10</title>\r\n",
       "<polygon fill=\"none\" stroke=\"black\" points=\"467,-36 367,-36 367,-0 467,-0 467,-36\"/>\r\n",
       "<text text-anchor=\"middle\" x=\"417\" y=\"-14.3\" font-family=\"Times New Roman,serif\" font-size=\"14.00\">leaf=&#45;0.199465</text>\r\n",
       "</g>\r\n",
       "<!-- 5&#45;&gt;10 -->\r\n",
       "<g id=\"edge10\" class=\"edge\"><title>5&#45;&gt;10</title>\r\n",
       "<path fill=\"none\" stroke=\"#ff0000\" d=\"M402.844,-133.81C406.234,-106.313 410.676,-70.2918 413.672,-45.9882\"/>\r\n",
       "<polygon fill=\"#ff0000\" stroke=\"#ff0000\" points=\"417.149,-46.3874 414.9,-36.0342 410.202,-45.5307 417.149,-46.3874\"/>\r\n",
       "<text text-anchor=\"middle\" x=\"420.5\" y=\"-57.8\" font-family=\"Times New Roman,serif\" font-size=\"14.00\">no</text>\r\n",
       "</g>\r\n",
       "<!-- 11 -->\r\n",
       "<g id=\"node12\" class=\"node\"><title>11</title>\r\n",
       "<polygon fill=\"none\" stroke=\"black\" points=\"588.5,-36 493.5,-36 493.5,-0 588.5,-0 588.5,-36\"/>\r\n",
       "<text text-anchor=\"middle\" x=\"541\" y=\"-14.3\" font-family=\"Times New Roman,serif\" font-size=\"14.00\">leaf=0.199851</text>\r\n",
       "</g>\r\n",
       "<!-- 6&#45;&gt;11 -->\r\n",
       "<g id=\"edge11\" class=\"edge\"><title>6&#45;&gt;11</title>\r\n",
       "<path fill=\"none\" stroke=\"#0000ff\" d=\"M541.877,-86.5871C541.688,-72.0303 541.505,-57.9308 541.356,-46.4098\"/>\r\n",
       "<polygon fill=\"#0000ff\" stroke=\"#0000ff\" points=\"544.853,-46.1769 541.224,-36.2232 537.854,-46.2678 544.853,-46.1769\"/>\r\n",
       "<text text-anchor=\"middle\" x=\"575.5\" y=\"-57.8\" font-family=\"Times New Roman,serif\" font-size=\"14.00\">yes, missing</text>\r\n",
       "</g>\r\n",
       "<!-- 12 -->\r\n",
       "<g id=\"node13\" class=\"node\"><title>12</title>\r\n",
       "<polygon fill=\"none\" stroke=\"black\" points=\"707,-36 607,-36 607,-0 707,-0 707,-36\"/>\r\n",
       "<text text-anchor=\"middle\" x=\"657\" y=\"-14.3\" font-family=\"Times New Roman,serif\" font-size=\"14.00\">leaf=&#45;0.196429</text>\r\n",
       "</g>\r\n",
       "<!-- 6&#45;&gt;12 -->\r\n",
       "<g id=\"edge12\" class=\"edge\"><title>6&#45;&gt;12</title>\r\n",
       "<path fill=\"none\" stroke=\"#ff0000\" d=\"M594.331,-103.709C609.888,-82.6802 626.015,-60.8819 638.013,-44.6647\"/>\r\n",
       "<polygon fill=\"#ff0000\" stroke=\"#ff0000\" points=\"641.09,-46.3904 644.224,-36.2697 635.462,-42.2272 641.09,-46.3904\"/>\r\n",
       "<text text-anchor=\"middle\" x=\"636.5\" y=\"-57.8\" font-family=\"Times New Roman,serif\" font-size=\"14.00\">no</text>\r\n",
       "</g>\r\n",
       "</g>\r\n",
       "</svg>\r\n"
      ],
      "text/plain": [
       "<graphviz.dot.Digraph at 0x1ae9d386748>"
      ]
     },
     "execution_count": 95,
     "metadata": {},
     "output_type": "execute_result"
    }
   ],
   "source": [
    "to_graphviz(clf)"
   ]
  },
  {
   "cell_type": "code",
   "execution_count": null,
   "metadata": {},
   "outputs": [],
   "source": []
  }
 ],
 "metadata": {
  "kernelspec": {
   "display_name": "Python 3 (ipykernel)",
   "language": "python",
   "name": "python3"
  },
  "language_info": {
   "codemirror_mode": {
    "name": "ipython",
    "version": 3
   },
   "file_extension": ".py",
   "mimetype": "text/x-python",
   "name": "python",
   "nbconvert_exporter": "python",
   "pygments_lexer": "ipython3",
   "version": "3.9.7"
  }
 },
 "nbformat": 4,
 "nbformat_minor": 2
}
